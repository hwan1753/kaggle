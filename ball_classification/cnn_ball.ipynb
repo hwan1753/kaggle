{
  "nbformat": 4,
  "nbformat_minor": 0,
  "metadata": {
    "colab": {
      "name": "cnn_ball.ipynb",
      "provenance": [],
      "collapsed_sections": []
    },
    "kernelspec": {
      "name": "python3",
      "display_name": "Python 3"
    },
    "accelerator": "GPU"
  },
  "cells": [
    {
      "cell_type": "code",
      "metadata": {
        "colab": {
          "base_uri": "https://localhost:8080/"
        },
        "id": "IkLELt5aughz",
        "outputId": "b624f035-9d19-4d7e-a9c1-6321c8fa70c7"
      },
      "source": [
        "import numpy as np\r\n",
        "import torch\r\n",
        "import os\r\n",
        "from torch import nn, optim\r\n",
        "from torch.nn import functional as F\r\n",
        "from torchvision import datasets, transforms\r\n",
        "import matplotlib.pyplot as plt\r\n",
        "%matplotlib inline\r\n",
        "%config InlineBackend.figure_format='retina'\r\n",
        "print(f\"PyTorch version:[{(torch.__version__)}].\")\r\n",
        "\r\n",
        "# Device Configuration\r\n",
        "device = torch.device('cuda:0' if torch.cuda.is_available() else 'cpu')\r\n",
        "print(f\"This notebook use {(device)}\")"
      ],
      "execution_count": 1,
      "outputs": [
        {
          "output_type": "stream",
          "text": [
            "PyTorch version:[1.7.0+cu101].\n",
            "This notebook use cuda:0\n"
          ],
          "name": "stdout"
        }
      ]
    },
    {
      "cell_type": "code",
      "metadata": {
        "id": "5jKhj_XIw7LZ"
      },
      "source": [
        "EPOCHS = 10\r\n",
        "BATCH_SIZE = 16\r\n",
        "LEARNING_RATE = 0.001"
      ],
      "execution_count": 2,
      "outputs": []
    },
    {
      "cell_type": "code",
      "metadata": {
        "colab": {
          "base_uri": "https://localhost:8080/"
        },
        "id": "n7k7rOOJxwm4",
        "outputId": "9910ffdd-cb54-4228-8895-a751fa93b20e"
      },
      "source": [
        "from torchvision import datasets, transforms, models\r\n",
        "\r\n",
        "train_transforms = transforms.Compose([transforms.RandomRotation(30),\r\n",
        "                                       transforms.RandomResizedCrop(224),\r\n",
        "                                       transforms.RandomHorizontalFlip(),\r\n",
        "                                       transforms.ToTensor(),\r\n",
        "                                       transforms.Normalize([0.485, 0.456, 0.406],\r\n",
        "                                                            [0.229,0.224,0.225])])\r\n",
        "\r\n",
        "test_transfomrs = transforms.Compose([transforms.Resize(255),\r\n",
        "                                      transforms.CenterCrop(224),\r\n",
        "                                      transforms.ToTensor(),\r\n",
        "                                      transforms.Normalize([0.485, 0.456, 0.406],\r\n",
        "                                                           [0.229, 0.224, 0.225])])\r\n",
        "\r\n",
        "DATASET_PATH = '/content/drive/MyDrive/Colab Notebooks/ball_dataset'\r\n",
        "\r\n",
        "train_data = datasets.ImageFolder(DATASET_PATH + '/train', transform=train_transforms)\r\n",
        "test_data = datasets.ImageFolder(DATASET_PATH + '/test', transform=test_transfomrs)\r\n",
        "\r\n",
        "train_iter = torch.utils.data.DataLoader(train_data, batch_size=BATCH_SIZE, shuffle=True, num_workers=1)\r\n",
        "test_iter = torch.utils.data.DataLoader(test_data, batch_size=BATCH_SIZE, shuffle=True, num_workers=1)\r\n",
        "\r\n",
        "print(\"Preparing dataset done!\")"
      ],
      "execution_count": 32,
      "outputs": [
        {
          "output_type": "stream",
          "text": [
            "Preparing dataset done!\n"
          ],
          "name": "stdout"
        }
      ]
    },
    {
      "cell_type": "code",
      "metadata": {
        "colab": {
          "base_uri": "https://localhost:8080/"
        },
        "id": "JQKCOXiUkhkm",
        "outputId": "ea06dc1f-7f73-455b-9ac3-7f900c511471"
      },
      "source": [
        "train_iter.__iter__().__next__()"
      ],
      "execution_count": 33,
      "outputs": [
        {
          "output_type": "execute_result",
          "data": {
            "text/plain": [
              "[tensor([[[[-2.1179, -2.1179, -2.1179,  ...,  2.2489,  2.2489,  2.2489],\n",
              "           [-2.1179, -2.1179, -2.1179,  ...,  2.2489,  2.2489,  2.2489],\n",
              "           [-2.1179, -2.1179, -2.1179,  ...,  2.2489,  2.2489,  2.2489],\n",
              "           ...,\n",
              "           [ 2.2489,  2.2489,  2.2489,  ...,  0.3652,  0.3652, -0.6109],\n",
              "           [ 2.2489,  2.2489,  2.2489,  ..., -2.1179, -2.1179, -2.1179],\n",
              "           [ 2.2489,  2.2489,  2.2489,  ..., -2.1179, -2.1179, -2.1179]],\n",
              " \n",
              "          [[-2.0357, -2.0357, -2.0357,  ...,  2.4286,  2.4286,  2.4286],\n",
              "           [-2.0357, -2.0357, -2.0357,  ...,  2.4286,  2.4286,  2.4286],\n",
              "           [-2.0357, -2.0357, -2.0357,  ...,  2.4286,  2.4286,  2.4286],\n",
              "           ...,\n",
              "           [ 2.4286,  2.4286,  2.4286,  ...,  0.5028,  0.5028, -0.4951],\n",
              "           [ 2.4286,  2.4286,  2.4286,  ..., -2.0357, -2.0357, -2.0357],\n",
              "           [ 2.4286,  2.4286,  2.4286,  ..., -2.0357, -2.0357, -2.0357]],\n",
              " \n",
              "          [[-1.8044, -1.8044, -1.8044,  ...,  2.6400,  2.6400,  2.6400],\n",
              "           [-1.8044, -1.8044, -1.8044,  ...,  2.6400,  2.6400,  2.6400],\n",
              "           [-1.8044, -1.8044, -1.8044,  ...,  2.6400,  2.6400,  2.6400],\n",
              "           ...,\n",
              "           [ 2.6400,  2.6400,  2.6400,  ...,  0.7228,  0.7228, -0.2707],\n",
              "           [ 2.6400,  2.6400,  2.6400,  ..., -1.8044, -1.8044, -1.8044],\n",
              "           [ 2.6400,  2.6400,  2.6400,  ..., -1.8044, -1.8044, -1.8044]]],\n",
              " \n",
              " \n",
              "         [[[ 1.9064,  1.8893,  1.8550,  ...,  2.2489,  2.2489,  2.2489],\n",
              "           [ 1.9578,  1.9407,  1.9064,  ...,  2.2489,  2.2489,  2.2489],\n",
              "           [ 2.0434,  2.0092,  1.9749,  ...,  2.2489,  2.2489,  2.2489],\n",
              "           ...,\n",
              "           [ 1.7009,  1.7180,  1.7180,  ...,  1.1700, -1.9124, -2.1179],\n",
              "           [ 1.7009,  1.6838,  1.7180,  ..., -0.0801, -2.1179, -2.1179],\n",
              "           [ 1.6495,  1.6838,  1.7352,  ..., -1.6555, -2.1179, -2.1179]],\n",
              " \n",
              "          [[ 2.0784,  2.0609,  2.0259,  ...,  2.4286,  2.4286,  2.4286],\n",
              "           [ 2.1310,  2.1134,  2.0784,  ...,  2.4286,  2.4286,  2.4286],\n",
              "           [ 2.2185,  2.1835,  2.1485,  ...,  2.4286,  2.4286,  2.4286],\n",
              "           ...,\n",
              "           [-1.6331, -1.5105, -1.5105,  ...,  1.3256, -1.8256, -2.0357],\n",
              "           [-1.6331, -1.6155, -1.5805,  ...,  0.0476, -2.0357, -2.0357],\n",
              "           [-1.7031, -1.6506, -1.5630,  ..., -1.5630, -2.0357, -2.0357]],\n",
              " \n",
              "          [[ 2.2914,  2.2740,  2.2391,  ...,  2.6400,  2.6400,  2.6400],\n",
              "           [ 2.3437,  2.3263,  2.2914,  ...,  2.6400,  2.6400,  2.6400],\n",
              "           [ 2.4308,  2.3960,  2.3611,  ...,  2.6400,  2.6400,  2.6400],\n",
              "           ...,\n",
              "           [-1.0376, -0.9330, -0.9156,  ...,  1.5420, -1.5953, -1.8044],\n",
              "           [-0.9853, -0.9504, -0.9330,  ...,  0.2696, -1.8044, -1.8044],\n",
              "           [-1.0550, -0.9504, -0.8981,  ..., -1.3339, -1.8044, -1.8044]]],\n",
              " \n",
              " \n",
              "         [[[-2.1179, -2.1179, -2.1179,  ...,  1.6495,  1.6495,  1.6667],\n",
              "           [-2.1179, -2.1179, -2.1179,  ...,  1.6495,  1.6495,  1.6495],\n",
              "           [-2.1179, -2.1179, -2.1179,  ...,  1.6495,  1.6495,  1.6495],\n",
              "           ...,\n",
              "           [-2.1179, -2.1179, -2.1179,  ..., -0.6623, -0.6623, -0.6623],\n",
              "           [-2.1179, -2.1179, -2.1179,  ..., -0.6623, -0.6623, -0.6452],\n",
              "           [-2.1179, -2.1179, -2.1179,  ..., -0.6623, -0.6623, -0.6623]],\n",
              " \n",
              "          [[-2.0357, -2.0357, -2.0357,  ...,  1.7283,  1.7108,  1.7108],\n",
              "           [-2.0357, -2.0357, -2.0357,  ...,  1.7283,  1.7283,  1.7108],\n",
              "           [-2.0357, -2.0357, -2.0357,  ...,  1.7283,  1.7283,  1.7108],\n",
              "           ...,\n",
              "           [-2.0357, -2.0357, -2.0357,  ..., -0.4951, -0.4951, -0.5126],\n",
              "           [-2.0357, -2.0357, -2.0357,  ..., -0.5126, -0.5126, -0.5126],\n",
              "           [-2.0357, -2.0357, -2.0357,  ..., -0.5126, -0.5126, -0.4951]],\n",
              " \n",
              "          [[-1.8044, -1.8044, -1.8044,  ..., -1.6476, -1.6650, -1.6650],\n",
              "           [-1.8044, -1.8044, -1.8044,  ..., -1.6476, -1.6476, -1.6650],\n",
              "           [-1.8044, -1.8044, -1.8044,  ..., -1.6476, -1.6476, -1.6650],\n",
              "           ...,\n",
              "           [-1.8044, -1.8044, -1.8044,  ..., -0.3753, -0.3753, -0.3578],\n",
              "           [-1.8044, -1.8044, -1.8044,  ..., -0.3927, -0.3578, -0.3753],\n",
              "           [-1.8044, -1.8044, -1.8044,  ..., -0.3753, -0.3753, -0.3753]]],\n",
              " \n",
              " \n",
              "         ...,\n",
              " \n",
              " \n",
              "         [[[-2.1179, -2.1179, -2.1179,  ...,  2.0263,  2.0092,  1.9920],\n",
              "           [-2.1179, -2.1179, -2.1179,  ...,  2.0434,  1.9578,  1.9235],\n",
              "           [-2.1179, -2.1179, -2.1179,  ...,  1.8037,  1.7523,  1.6667],\n",
              "           ...,\n",
              "           [-2.1179, -2.1179, -2.1179,  ...,  1.3927,  1.3927,  1.3927],\n",
              "           [-2.1179, -2.1179, -2.1179,  ...,  1.3927,  1.3927,  1.3927],\n",
              "           [-2.1179, -2.1179, -2.1179,  ...,  1.3755,  1.3755,  1.3755]],\n",
              " \n",
              "          [[-2.0357, -2.0357, -2.0357,  ...,  2.1835,  2.1835,  2.1835],\n",
              "           [-2.0357, -2.0357, -2.0357,  ...,  2.2185,  1.9559,  1.7808],\n",
              "           [-2.0357, -2.0357, -2.0357,  ...,  1.3081,  0.9405,  0.5553],\n",
              "           ...,\n",
              "           [-2.0357, -2.0357, -2.0357,  ...,  1.5532,  1.5532,  1.5532],\n",
              "           [-2.0357, -2.0357, -2.0357,  ...,  1.5532,  1.5532,  1.5532],\n",
              "           [-2.0357, -2.0357, -2.0357,  ...,  1.5357,  1.5357,  1.5357]],\n",
              " \n",
              "          [[-1.8044, -1.8044, -1.8044,  ...,  2.3960,  2.3960,  2.3960],\n",
              "           [-1.8044, -1.8044, -1.8044,  ...,  2.4308,  2.1694,  1.9951],\n",
              "           [-1.8044, -1.8044, -1.8044,  ...,  1.5245,  1.1585,  0.7751],\n",
              "           ...,\n",
              "           [-1.8044, -1.8044, -1.8044,  ...,  1.7685,  1.7685,  1.7685],\n",
              "           [-1.8044, -1.8044, -1.8044,  ...,  1.7685,  1.7685,  1.7685],\n",
              "           [-1.8044, -1.8044, -1.8044,  ...,  1.7511,  1.7511,  1.7511]]],\n",
              " \n",
              " \n",
              "         [[[ 1.3755,  1.3584,  1.3755,  ...,  2.0263,  2.0263,  2.0263],\n",
              "           [ 1.3755,  1.3584,  1.3755,  ...,  2.0263,  2.0263,  2.0092],\n",
              "           [ 1.3755,  1.3755,  1.3755,  ...,  2.0092,  2.0263,  2.0263],\n",
              "           ...,\n",
              "           [ 2.0092,  2.0263,  2.0092,  ...,  2.0263,  2.0092,  2.0263],\n",
              "           [ 2.0263,  2.0263,  2.0263,  ...,  2.0092,  2.0263,  2.0263],\n",
              "           [ 2.0263,  2.0263,  2.0263,  ...,  2.0092,  2.0263,  2.0263]],\n",
              " \n",
              "          [[ 1.8508,  1.8508,  1.8508,  ...,  2.2010,  2.2010,  2.2010],\n",
              "           [ 1.8508,  1.8333,  1.8508,  ...,  2.2010,  2.2010,  2.1835],\n",
              "           [ 1.8508,  1.8508,  1.8508,  ...,  2.1835,  2.2010,  2.2010],\n",
              "           ...,\n",
              "           [ 2.1835,  2.2010,  2.1835,  ...,  2.2010,  2.1835,  2.2010],\n",
              "           [ 2.2010,  2.2010,  2.2010,  ...,  2.1835,  2.2010,  2.2010],\n",
              "           [ 2.2010,  2.2010,  2.2010,  ...,  2.1835,  2.2010,  2.2010]],\n",
              " \n",
              "          [[ 1.0888,  1.0888,  1.0888,  ...,  2.4134,  2.4134,  2.4134],\n",
              "           [ 1.0888,  1.0714,  1.0888,  ...,  2.4134,  2.4134,  2.3960],\n",
              "           [ 1.0888,  1.0888,  1.0888,  ...,  2.3960,  2.4134,  2.4134],\n",
              "           ...,\n",
              "           [ 2.3960,  2.4134,  2.3960,  ...,  2.4134,  2.3960,  2.4134],\n",
              "           [ 2.4134,  2.4134,  2.4134,  ...,  2.3960,  2.4134,  2.4134],\n",
              "           [ 2.4134,  2.4134,  2.4134,  ...,  2.3960,  2.4134,  2.4134]]],\n",
              " \n",
              " \n",
              "         [[[ 2.2318,  2.2318,  2.2318,  ...,  2.2147,  2.2147,  2.2147],\n",
              "           [ 2.2318,  2.2318,  2.2318,  ...,  2.2147,  2.2147,  2.2147],\n",
              "           [ 2.2318,  2.2318,  2.2318,  ...,  2.2318,  2.2318,  2.2147],\n",
              "           ...,\n",
              "           [ 2.2489,  2.2489,  2.2489,  ...,  2.2489,  2.2489,  2.2489],\n",
              "           [ 2.2489,  2.2489,  2.2489,  ...,  1.3413,  1.3413,  1.3413],\n",
              "           [ 2.2318,  2.2318,  2.2489,  ..., -2.1179, -2.1179, -2.1179]],\n",
              " \n",
              "          [[ 2.4111,  2.4111,  2.4111,  ...,  2.3761,  2.4111,  2.4111],\n",
              "           [ 2.4111,  2.4111,  2.4111,  ...,  2.4111,  2.4111,  2.4111],\n",
              "           [ 2.4111,  2.4111,  2.4111,  ...,  2.3761,  2.3936,  2.4286],\n",
              "           ...,\n",
              "           [ 2.4286,  2.4286,  2.4286,  ...,  2.4286,  2.4286,  2.4286],\n",
              "           [ 2.4286,  2.4286,  2.4286,  ...,  1.5007,  1.5007,  1.5007],\n",
              "           [ 2.4111,  2.4111,  2.4286,  ..., -2.0357, -2.0357, -2.0357]],\n",
              " \n",
              "          [[ 2.6226,  2.6226,  2.6226,  ...,  2.5354,  2.5529,  2.5354],\n",
              "           [ 2.6226,  2.6226,  2.6226,  ...,  2.4831,  2.4831,  2.5006],\n",
              "           [ 2.6226,  2.6226,  2.6226,  ...,  2.5180,  2.4483,  2.3960],\n",
              "           ...,\n",
              "           [ 2.6400,  2.6400,  2.6400,  ...,  2.6400,  2.6400,  2.6400],\n",
              "           [ 2.6400,  2.6400,  2.6400,  ...,  1.7163,  1.7163,  1.7163],\n",
              "           [ 2.6226,  2.6226,  2.6400,  ..., -1.8044, -1.8044, -1.8044]]]]),\n",
              " tensor([0, 6, 5, 3, 0, 6, 2, 2, 3, 0, 2, 3, 5, 2, 2, 6])]"
            ]
          },
          "metadata": {
            "tags": []
          },
          "execution_count": 33
        }
      ]
    },
    {
      "cell_type": "markdown",
      "metadata": {
        "id": "vknRf-uXzdQM"
      },
      "source": [
        "# Define Model"
      ]
    },
    {
      "cell_type": "code",
      "metadata": {
        "id": "39rphXbO0UaH"
      },
      "source": [
        "class Model(nn.Module):\r\n",
        "    def __init__(self, input_size=[3,224,224],\r\n",
        "                 hidden_size=[32,64],\r\n",
        "                 num_classes=7, init_weight=\"he\", init_bias=\"zero\"):\r\n",
        "        super(Model, self).__init__()\r\n",
        "\r\n",
        "        self.init_weight = init_weight\r\n",
        "        self.init_bias = init_bias\r\n",
        "\r\n",
        "        layer_list = []\r\n",
        "        prev_channel = input_size[0]\r\n",
        "\r\n",
        "        for idx in range(len(hidden_size)):\r\n",
        "            layer_list.append(nn.Conv2d(prev_channel, hidden_size[idx], kernel_size=3, stride=1, padding=1))\r\n",
        "            layer_list.append(nn.BatchNorm2d(hidden_size[idx]))\r\n",
        "            layer_list.append(nn.ReLU(True))\r\n",
        "            layer_list.append(nn.MaxPool2d(kernel_size=2, stride=2))\r\n",
        "            prev_channel = hidden_size[idx]\r\n",
        "\r\n",
        "        layer_list.append(nn.Flatten())\r\n",
        "        feature_size = int(input_size[1]/ 2**len(hidden_size))\r\n",
        "        layer_list.append(nn.Linear(feature_size*feature_size*prev_channel, 7))\r\n",
        "\r\n",
        "        self.net = nn.Sequential(*layer_list)\r\n",
        "\r\n",
        "        self.init_params()\r\n",
        "    \r\n",
        "    \r\n",
        "    def init_params(self):\r\n",
        "\r\n",
        "        init_weight_method = {\r\n",
        "            \"he\": nn.init.kaiming_normal_,\r\n",
        "            \"xavier\":nn.init.xavier_normal_\r\n",
        "        }\r\n",
        "        assert self.init_weight in init_weight_method.keys(), f'Select the weight initialization method in {list(init_weight_method.keys())}'\r\n",
        "\r\n",
        "        init_bias_method = {\r\n",
        "            \"zero\":nn.init.zeros_,\r\n",
        "            \"uniform\":nn.init.uniform_\r\n",
        "        }\r\n",
        "        assert self.init_bias in init_bias_method.keys(), f'Select the bias initialization method in {list(init_bias_method.keys())}'\r\n",
        "\r\n",
        "\r\n",
        "        for m in self.modules():\r\n",
        "            if isinstance(m, nn.Conv2d):\r\n",
        "                init_weight_method[self.init_weight](m.weight)\r\n",
        "                init_bias_method[self.init_bias](m.bias)\r\n",
        "            elif isinstance(m, nn.BatchNorm2d):\r\n",
        "                nn.init.constant_(m.weight, 1)\r\n",
        "                nn.init.constant_(m.bias, 0)\r\n",
        "\r\n",
        "    def forward(self, X):\r\n",
        "        return self.net(X)\r\n"
      ],
      "execution_count": 34,
      "outputs": []
    },
    {
      "cell_type": "code",
      "metadata": {
        "id": "0mJVzYXp3kff"
      },
      "source": [
        "model = Model(hidden_size=[64,32,64]).to(device)\r\n",
        "criterion = nn.CrossEntropyLoss()\r\n",
        "optimizer = optim.Adam(model.parameters(), lr=LEARNING_RATE)"
      ],
      "execution_count": 35,
      "outputs": []
    },
    {
      "cell_type": "code",
      "metadata": {
        "colab": {
          "base_uri": "https://localhost:8080/"
        },
        "id": "_6o9Nb0o4H5K",
        "outputId": "3b32eda1-6d62-4760-b165-4ce73f7410cb"
      },
      "source": [
        "total_params = 0\r\n",
        "for param_name, param in model.named_parameters():\r\n",
        "    if param.requires_grad:\r\n",
        "        total_params += len(param.reshape(-1))\r\n",
        "print(f'Number of Total Parameters: {total_params:,d}')"
      ],
      "execution_count": 36,
      "outputs": [
        {
          "output_type": "stream",
          "text": [
            "Number of Total Parameters: 390,311\n"
          ],
          "name": "stdout"
        }
      ]
    },
    {
      "cell_type": "markdown",
      "metadata": {
        "id": "mCAHVGQh4yMI"
      },
      "source": [
        "# Define help function"
      ]
    },
    {
      "cell_type": "code",
      "metadata": {
        "id": "Vfj-J1YGaUrB"
      },
      "source": [
        "def test_eval(model, data_iter, batch_size):\r\n",
        "    with torch.no_grad():\r\n",
        "        test_loss = 0\r\n",
        "        total = 0\r\n",
        "        correct = 0\r\n",
        "        model.eval()\r\n",
        "        for batch_img, batch_lab in data_iter:\r\n",
        "            X = batch_img.view(-1, 3, 224, 224).to(device)\r\n",
        "            Y = batch_lab.to(device)\r\n",
        "            y_pred = model(X)\r\n",
        "            _, predicted = torch.max(y_pred.data, 1)\r\n",
        "            correct += (predicted == Y).sum().item()\r\n",
        "            total += batch_img.size(0)\r\n",
        "        val_acc = (100 * correct / total)\r\n",
        "        model.train()\r\n",
        "    return val_acc"
      ],
      "execution_count": 37,
      "outputs": []
    },
    {
      "cell_type": "code",
      "metadata": {
        "colab": {
          "base_uri": "https://localhost:8080/"
        },
        "id": "6jHesDESiAkL",
        "outputId": "4efa1f59-996c-4bd2-9769-83ebc52f1cfd"
      },
      "source": [
        "type(train_iter)"
      ],
      "execution_count": 38,
      "outputs": [
        {
          "output_type": "execute_result",
          "data": {
            "text/plain": [
              "torch.utils.data.dataloader.DataLoader"
            ]
          },
          "metadata": {
            "tags": []
          },
          "execution_count": 38
        }
      ]
    },
    {
      "cell_type": "code",
      "metadata": {
        "colab": {
          "base_uri": "https://localhost:8080/",
          "height": 774
        },
        "id": "Wv_IpiFUa-ax",
        "outputId": "bf0225fd-ffb6-42a6-b668-bc37e7193488"
      },
      "source": [
        "# Training Phase\r\n",
        "print_every = 1\r\n",
        "best_accuracy = 0\r\n",
        "print(\"Strart training !\")\r\n",
        "checkpoint_dir = \"/content/drive/MyDrive/Colab Notebooks/ball_dataset/weights\"\r\n",
        "\r\n",
        "if os.path.exists(checkpoint_dir):\r\n",
        "    model = torch.load(f'{checkpoint_dir}/model.pt')\r\n",
        "    model.load_state_dict(\r\n",
        "        torch.load(f'{checkpoint_dir}/all.pt'))\r\n",
        "    checkpoint = torch.load(f'{checkpoint_dir}/all.tar')\r\n",
        "    # model.load_state_dict(checkpoint['model'])\r\n",
        "    optimizer.load_state_dict(checkpoint['optimizer'])\r\n",
        "\r\n",
        "else:\r\n",
        "    model = Model(hidden_size=[64,32,64]).to(device)\r\n",
        "    criterion = nn.CrossEntropyLoss()\r\n",
        "    optimizer = optim.Adam(model.parameters(), lr=LEARNING_RATE)\r\n",
        "\r\n",
        "\r\n",
        "# Training loop\r\n",
        "for epch in range(EPOCHS):\r\n",
        "    loss_val_sum = 0\r\n",
        "    for batch_img, batch_lab in train_iter:\r\n",
        "        # print(type(batch_img))\r\n",
        "        X = batch_img.view(-1, 3, 224, 224).to(device)\r\n",
        "        Y = batch_lab.to(device)\r\n",
        "\r\n",
        "        # Inference % Calculate los\r\n",
        "        y_pred = model.forward(X)\r\n",
        "        loss = criterion(y_pred, Y)\r\n",
        "        \r\n",
        "        optimizer.zero_grad()\r\n",
        "        loss.backward()\r\n",
        "        optimizer.step()\r\n",
        "\r\n",
        "        loss_val_sum += loss\r\n",
        "\r\n",
        "    if ((epoch%print_every)==0) or (epoch==(EPOCHS-1)):\r\n",
        "        # acc_val = M.test(x_test, y_test, batch_size)\r\n",
        "        loss_val_avg = loss_val_sum / len(train_iter)\r\n",
        "        accr_val = test_eval(model, test_iter, BATCH_SIZE)\r\n",
        "        print(f'epoch:[{epoch+1}/{EPOCHS}] cost:[{loss_val_avg:.3f}] test_accuracy:[{accr_val:.3f}]')\r\n",
        "\r\n",
        "    if accr_val > best_accuracy:\r\n",
        "        if not os.path.exists(checkpoint_dir):\r\n",
        "            os.mkdir(checkpoint_dir)\r\n",
        "        print(f'Model saved : acc - {accr_val}')\r\n",
        "\r\n",
        "        torch.save(model, f'{checkpoint_dir}/model.pt')\r\n",
        "        torch.save(model.state_dict(),\r\n",
        "                   f'{checkpoint_dir}/model_state_dict.pt')\r\n",
        "        torch.save({\r\n",
        "            'model':model.state_dict(),\r\n",
        "            'optimizer': optimizer.state_dict(),\r\n",
        "        }, f'{checkpoint_dir}/all.tar')\r\n",
        "\r\n",
        "    print(\"Training Done !\")\r\n"
      ],
      "execution_count": 41,
      "outputs": [
        {
          "output_type": "stream",
          "text": [
            "Strart training !\n"
          ],
          "name": "stdout"
        },
        {
          "output_type": "stream",
          "text": [
            "/usr/local/lib/python3.6/dist-packages/PIL/Image.py:932: UserWarning: Palette images with Transparency expressed in bytes should be converted to RGBA images\n",
            "  \"Palette images with Transparency expressed in bytes should be \"\n"
          ],
          "name": "stderr"
        },
        {
          "output_type": "error",
          "ename": "UnidentifiedImageError",
          "evalue": "ignored",
          "traceback": [
            "\u001b[0;31m---------------------------------------------------------------------------\u001b[0m",
            "\u001b[0;31mUnidentifiedImageError\u001b[0m                    Traceback (most recent call last)",
            "\u001b[0;32m<ipython-input-41-dc4f5f13bbba>\u001b[0m in \u001b[0;36m<module>\u001b[0;34m()\u001b[0m\n\u001b[1;32m     22\u001b[0m \u001b[0;32mfor\u001b[0m \u001b[0mepch\u001b[0m \u001b[0;32min\u001b[0m \u001b[0mrange\u001b[0m\u001b[0;34m(\u001b[0m\u001b[0mEPOCHS\u001b[0m\u001b[0;34m)\u001b[0m\u001b[0;34m:\u001b[0m\u001b[0;34m\u001b[0m\u001b[0;34m\u001b[0m\u001b[0m\n\u001b[1;32m     23\u001b[0m     \u001b[0mloss_val_sum\u001b[0m \u001b[0;34m=\u001b[0m \u001b[0;36m0\u001b[0m\u001b[0;34m\u001b[0m\u001b[0;34m\u001b[0m\u001b[0m\n\u001b[0;32m---> 24\u001b[0;31m     \u001b[0;32mfor\u001b[0m \u001b[0mbatch_img\u001b[0m\u001b[0;34m,\u001b[0m \u001b[0mbatch_lab\u001b[0m \u001b[0;32min\u001b[0m \u001b[0mtrain_iter\u001b[0m\u001b[0;34m:\u001b[0m\u001b[0;34m\u001b[0m\u001b[0;34m\u001b[0m\u001b[0m\n\u001b[0m\u001b[1;32m     25\u001b[0m         \u001b[0;31m# print(type(batch_img))\u001b[0m\u001b[0;34m\u001b[0m\u001b[0;34m\u001b[0m\u001b[0;34m\u001b[0m\u001b[0m\n\u001b[1;32m     26\u001b[0m         \u001b[0mX\u001b[0m \u001b[0;34m=\u001b[0m \u001b[0mbatch_img\u001b[0m\u001b[0;34m.\u001b[0m\u001b[0mview\u001b[0m\u001b[0;34m(\u001b[0m\u001b[0;34m-\u001b[0m\u001b[0;36m1\u001b[0m\u001b[0;34m,\u001b[0m \u001b[0;36m3\u001b[0m\u001b[0;34m,\u001b[0m \u001b[0;36m224\u001b[0m\u001b[0;34m,\u001b[0m \u001b[0;36m224\u001b[0m\u001b[0;34m)\u001b[0m\u001b[0;34m.\u001b[0m\u001b[0mto\u001b[0m\u001b[0;34m(\u001b[0m\u001b[0mdevice\u001b[0m\u001b[0;34m)\u001b[0m\u001b[0;34m\u001b[0m\u001b[0;34m\u001b[0m\u001b[0m\n",
            "\u001b[0;32m/usr/local/lib/python3.6/dist-packages/torch/utils/data/dataloader.py\u001b[0m in \u001b[0;36m__next__\u001b[0;34m(self)\u001b[0m\n\u001b[1;32m    433\u001b[0m         \u001b[0;32mif\u001b[0m \u001b[0mself\u001b[0m\u001b[0;34m.\u001b[0m\u001b[0m_sampler_iter\u001b[0m \u001b[0;32mis\u001b[0m \u001b[0;32mNone\u001b[0m\u001b[0;34m:\u001b[0m\u001b[0;34m\u001b[0m\u001b[0;34m\u001b[0m\u001b[0m\n\u001b[1;32m    434\u001b[0m             \u001b[0mself\u001b[0m\u001b[0;34m.\u001b[0m\u001b[0m_reset\u001b[0m\u001b[0;34m(\u001b[0m\u001b[0;34m)\u001b[0m\u001b[0;34m\u001b[0m\u001b[0;34m\u001b[0m\u001b[0m\n\u001b[0;32m--> 435\u001b[0;31m         \u001b[0mdata\u001b[0m \u001b[0;34m=\u001b[0m \u001b[0mself\u001b[0m\u001b[0;34m.\u001b[0m\u001b[0m_next_data\u001b[0m\u001b[0;34m(\u001b[0m\u001b[0;34m)\u001b[0m\u001b[0;34m\u001b[0m\u001b[0;34m\u001b[0m\u001b[0m\n\u001b[0m\u001b[1;32m    436\u001b[0m         \u001b[0mself\u001b[0m\u001b[0;34m.\u001b[0m\u001b[0m_num_yielded\u001b[0m \u001b[0;34m+=\u001b[0m \u001b[0;36m1\u001b[0m\u001b[0;34m\u001b[0m\u001b[0;34m\u001b[0m\u001b[0m\n\u001b[1;32m    437\u001b[0m         \u001b[0;32mif\u001b[0m \u001b[0mself\u001b[0m\u001b[0;34m.\u001b[0m\u001b[0m_dataset_kind\u001b[0m \u001b[0;34m==\u001b[0m \u001b[0m_DatasetKind\u001b[0m\u001b[0;34m.\u001b[0m\u001b[0mIterable\u001b[0m \u001b[0;32mand\u001b[0m\u001b[0;31m \u001b[0m\u001b[0;31m\\\u001b[0m\u001b[0;34m\u001b[0m\u001b[0;34m\u001b[0m\u001b[0m\n",
            "\u001b[0;32m/usr/local/lib/python3.6/dist-packages/torch/utils/data/dataloader.py\u001b[0m in \u001b[0;36m_next_data\u001b[0;34m(self)\u001b[0m\n\u001b[1;32m   1083\u001b[0m             \u001b[0;32melse\u001b[0m\u001b[0;34m:\u001b[0m\u001b[0;34m\u001b[0m\u001b[0;34m\u001b[0m\u001b[0m\n\u001b[1;32m   1084\u001b[0m                 \u001b[0;32mdel\u001b[0m \u001b[0mself\u001b[0m\u001b[0;34m.\u001b[0m\u001b[0m_task_info\u001b[0m\u001b[0;34m[\u001b[0m\u001b[0midx\u001b[0m\u001b[0;34m]\u001b[0m\u001b[0;34m\u001b[0m\u001b[0;34m\u001b[0m\u001b[0m\n\u001b[0;32m-> 1085\u001b[0;31m                 \u001b[0;32mreturn\u001b[0m \u001b[0mself\u001b[0m\u001b[0;34m.\u001b[0m\u001b[0m_process_data\u001b[0m\u001b[0;34m(\u001b[0m\u001b[0mdata\u001b[0m\u001b[0;34m)\u001b[0m\u001b[0;34m\u001b[0m\u001b[0;34m\u001b[0m\u001b[0m\n\u001b[0m\u001b[1;32m   1086\u001b[0m \u001b[0;34m\u001b[0m\u001b[0m\n\u001b[1;32m   1087\u001b[0m     \u001b[0;32mdef\u001b[0m \u001b[0m_try_put_index\u001b[0m\u001b[0;34m(\u001b[0m\u001b[0mself\u001b[0m\u001b[0;34m)\u001b[0m\u001b[0;34m:\u001b[0m\u001b[0;34m\u001b[0m\u001b[0;34m\u001b[0m\u001b[0m\n",
            "\u001b[0;32m/usr/local/lib/python3.6/dist-packages/torch/utils/data/dataloader.py\u001b[0m in \u001b[0;36m_process_data\u001b[0;34m(self, data)\u001b[0m\n\u001b[1;32m   1109\u001b[0m         \u001b[0mself\u001b[0m\u001b[0;34m.\u001b[0m\u001b[0m_try_put_index\u001b[0m\u001b[0;34m(\u001b[0m\u001b[0;34m)\u001b[0m\u001b[0;34m\u001b[0m\u001b[0;34m\u001b[0m\u001b[0m\n\u001b[1;32m   1110\u001b[0m         \u001b[0;32mif\u001b[0m \u001b[0misinstance\u001b[0m\u001b[0;34m(\u001b[0m\u001b[0mdata\u001b[0m\u001b[0;34m,\u001b[0m \u001b[0mExceptionWrapper\u001b[0m\u001b[0;34m)\u001b[0m\u001b[0;34m:\u001b[0m\u001b[0;34m\u001b[0m\u001b[0;34m\u001b[0m\u001b[0m\n\u001b[0;32m-> 1111\u001b[0;31m             \u001b[0mdata\u001b[0m\u001b[0;34m.\u001b[0m\u001b[0mreraise\u001b[0m\u001b[0;34m(\u001b[0m\u001b[0;34m)\u001b[0m\u001b[0;34m\u001b[0m\u001b[0;34m\u001b[0m\u001b[0m\n\u001b[0m\u001b[1;32m   1112\u001b[0m         \u001b[0;32mreturn\u001b[0m \u001b[0mdata\u001b[0m\u001b[0;34m\u001b[0m\u001b[0;34m\u001b[0m\u001b[0m\n\u001b[1;32m   1113\u001b[0m \u001b[0;34m\u001b[0m\u001b[0m\n",
            "\u001b[0;32m/usr/local/lib/python3.6/dist-packages/torch/_utils.py\u001b[0m in \u001b[0;36mreraise\u001b[0;34m(self)\u001b[0m\n\u001b[1;32m    426\u001b[0m             \u001b[0;31m# have message field\u001b[0m\u001b[0;34m\u001b[0m\u001b[0;34m\u001b[0m\u001b[0;34m\u001b[0m\u001b[0m\n\u001b[1;32m    427\u001b[0m             \u001b[0;32mraise\u001b[0m \u001b[0mself\u001b[0m\u001b[0;34m.\u001b[0m\u001b[0mexc_type\u001b[0m\u001b[0;34m(\u001b[0m\u001b[0mmessage\u001b[0m\u001b[0;34m=\u001b[0m\u001b[0mmsg\u001b[0m\u001b[0;34m)\u001b[0m\u001b[0;34m\u001b[0m\u001b[0;34m\u001b[0m\u001b[0m\n\u001b[0;32m--> 428\u001b[0;31m         \u001b[0;32mraise\u001b[0m \u001b[0mself\u001b[0m\u001b[0;34m.\u001b[0m\u001b[0mexc_type\u001b[0m\u001b[0;34m(\u001b[0m\u001b[0mmsg\u001b[0m\u001b[0;34m)\u001b[0m\u001b[0;34m\u001b[0m\u001b[0;34m\u001b[0m\u001b[0m\n\u001b[0m\u001b[1;32m    429\u001b[0m \u001b[0;34m\u001b[0m\u001b[0m\n\u001b[1;32m    430\u001b[0m \u001b[0;34m\u001b[0m\u001b[0m\n",
            "\u001b[0;31mUnidentifiedImageError\u001b[0m: Caught UnidentifiedImageError in DataLoader worker process 0.\nOriginal Traceback (most recent call last):\n  File \"/usr/local/lib/python3.6/dist-packages/torch/utils/data/_utils/worker.py\", line 198, in _worker_loop\n    data = fetcher.fetch(index)\n  File \"/usr/local/lib/python3.6/dist-packages/torch/utils/data/_utils/fetch.py\", line 44, in fetch\n    data = [self.dataset[idx] for idx in possibly_batched_index]\n  File \"/usr/local/lib/python3.6/dist-packages/torch/utils/data/_utils/fetch.py\", line 44, in <listcomp>\n    data = [self.dataset[idx] for idx in possibly_batched_index]\n  File \"/usr/local/lib/python3.6/dist-packages/torchvision/datasets/folder.py\", line 151, in __getitem__\n    sample = self.loader(path)\n  File \"/usr/local/lib/python3.6/dist-packages/torchvision/datasets/folder.py\", line 188, in default_loader\n    return pil_loader(path)\n  File \"/usr/local/lib/python3.6/dist-packages/torchvision/datasets/folder.py\", line 169, in pil_loader\n    img = Image.open(f)\n  File \"/usr/local/lib/python3.6/dist-packages/PIL/Image.py\", line 2862, in open\n    \"cannot identify image file %r\" % (filename if filename else fp)\nPIL.UnidentifiedImageError: cannot identify image file <_io.BufferedReader name='/content/drive/MyDrive/Colab Notebooks/ball_dataset/train/golf/golf_num7.png'>\n"
          ]
        }
      ]
    },
    {
      "cell_type": "code",
      "metadata": {
        "colab": {
          "base_uri": "https://localhost:8080/",
          "height": 388
        },
        "id": "WVi8SxyJhvwy",
        "outputId": "7e3dd3c2-46c0-4cc3-afc0-3f27d4b4aff4"
      },
      "source": [
        "from PIL import Image\r\n",
        " \r\n",
        "# 이미지 열기\r\n",
        "im = Image.open('/content/drive/MyDrive/Colab Notebooks/ball_dataset/train/golf/golf_num7.png')\r\n",
        " \r\n",
        "# 이미지 크기 출력\r\n",
        "print(im.size)"
      ],
      "execution_count": 45,
      "outputs": [
        {
          "output_type": "error",
          "ename": "UnidentifiedImageError",
          "evalue": "ignored",
          "traceback": [
            "\u001b[0;31m---------------------------------------------------------------------------\u001b[0m",
            "\u001b[0;31mUnidentifiedImageError\u001b[0m                    Traceback (most recent call last)",
            "\u001b[0;32m<ipython-input-45-d4a21c66a7dc>\u001b[0m in \u001b[0;36m<module>\u001b[0;34m()\u001b[0m\n\u001b[1;32m      2\u001b[0m \u001b[0;34m\u001b[0m\u001b[0m\n\u001b[1;32m      3\u001b[0m \u001b[0;31m# 이미지 열기\u001b[0m\u001b[0;34m\u001b[0m\u001b[0;34m\u001b[0m\u001b[0;34m\u001b[0m\u001b[0m\n\u001b[0;32m----> 4\u001b[0;31m \u001b[0mim\u001b[0m \u001b[0;34m=\u001b[0m \u001b[0mImage\u001b[0m\u001b[0;34m.\u001b[0m\u001b[0mopen\u001b[0m\u001b[0;34m(\u001b[0m\u001b[0;34m'/content/drive/MyDrive/Colab Notebooks/ball_dataset/train/golf/golf_num7.png'\u001b[0m\u001b[0;34m)\u001b[0m\u001b[0;34m\u001b[0m\u001b[0;34m\u001b[0m\u001b[0m\n\u001b[0m\u001b[1;32m      5\u001b[0m \u001b[0;34m\u001b[0m\u001b[0m\n\u001b[1;32m      6\u001b[0m \u001b[0;31m# 이미지 크기 출력\u001b[0m\u001b[0;34m\u001b[0m\u001b[0;34m\u001b[0m\u001b[0;34m\u001b[0m\u001b[0m\n",
            "\u001b[0;32m/usr/local/lib/python3.6/dist-packages/PIL/Image.py\u001b[0m in \u001b[0;36mopen\u001b[0;34m(fp, mode)\u001b[0m\n\u001b[1;32m   2860\u001b[0m         \u001b[0mwarnings\u001b[0m\u001b[0;34m.\u001b[0m\u001b[0mwarn\u001b[0m\u001b[0;34m(\u001b[0m\u001b[0mmessage\u001b[0m\u001b[0;34m)\u001b[0m\u001b[0;34m\u001b[0m\u001b[0;34m\u001b[0m\u001b[0m\n\u001b[1;32m   2861\u001b[0m     raise UnidentifiedImageError(\n\u001b[0;32m-> 2862\u001b[0;31m         \u001b[0;34m\"cannot identify image file %r\"\u001b[0m \u001b[0;34m%\u001b[0m \u001b[0;34m(\u001b[0m\u001b[0mfilename\u001b[0m \u001b[0;32mif\u001b[0m \u001b[0mfilename\u001b[0m \u001b[0;32melse\u001b[0m \u001b[0mfp\u001b[0m\u001b[0;34m)\u001b[0m\u001b[0;34m\u001b[0m\u001b[0;34m\u001b[0m\u001b[0m\n\u001b[0m\u001b[1;32m   2863\u001b[0m     )\n\u001b[1;32m   2864\u001b[0m \u001b[0;34m\u001b[0m\u001b[0m\n",
            "\u001b[0;31mUnidentifiedImageError\u001b[0m: cannot identify image file '/content/drive/MyDrive/Colab Notebooks/ball_dataset/train/golf/golf_num7.png'"
          ]
        }
      ]
    }
  ]
}