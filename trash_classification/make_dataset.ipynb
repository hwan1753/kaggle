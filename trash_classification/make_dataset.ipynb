{
 "cells": [
  {
   "cell_type": "code",
   "execution_count": 1,
   "id": "65204f6c-8e92-4b60-9aae-f8667fa063c2",
   "metadata": {},
   "outputs": [],
   "source": [
    "import os, sys\n",
    "import pandas as pd\n",
    "from glob import glob\n",
    "\n",
    "path = \"/opt/ml/pang/solid_waste/\"\n",
    "os.chdir(path)\n",
    "data = [[],[],[]]"
   ]
  },
  {
   "cell_type": "code",
   "execution_count": 3,
   "id": "7947d39b-c3d0-4748-85d9-ec5b14b6b7af",
   "metadata": {},
   "outputs": [
    {
     "name": "stdout",
     "output_type": "stream",
     "text": [
      "number of plastic: 2506\n",
      "number of glass: 2273\n",
      "number of metal: 2424\n"
     ]
    }
   ],
   "source": [
    "data = [[],[],[]]\n",
    "for di in glob('*'):\n",
    "\n",
    "    for category in glob(os.path.join(path, di)+'/*'):\n",
    "        if category.split('/')[-1] == 'plastic':\n",
    "            data[0] += glob(category+'/*')\n",
    "        elif category.split('/')[-1] == 'glass':\n",
    "            data[1] += glob(category+'/*')\n",
    "        else:\n",
    "            data[2] += glob(category+'/*')\n",
    "print(f'number of plastic: {len(data[0])}')\n",
    "print(f'number of glass: {len(data[1])}')\n",
    "print(f'number of metal: {len(data[2])}')"
   ]
  },
  {
   "cell_type": "code",
   "execution_count": 10,
   "id": "8e2be434-96cc-4e01-be57-9ef853ea8797",
   "metadata": {},
   "outputs": [
    {
     "name": "stdout",
     "output_type": "stream",
     "text": [
      "3\n"
     ]
    },
    {
     "data": {
      "text/html": [
       "<div>\n",
       "<style scoped>\n",
       "    .dataframe tbody tr th:only-of-type {\n",
       "        vertical-align: middle;\n",
       "    }\n",
       "\n",
       "    .dataframe tbody tr th {\n",
       "        vertical-align: top;\n",
       "    }\n",
       "\n",
       "    .dataframe thead th {\n",
       "        text-align: right;\n",
       "    }\n",
       "</style>\n",
       "<table border=\"1\" class=\"dataframe\">\n",
       "  <thead>\n",
       "    <tr style=\"text-align: right;\">\n",
       "      <th></th>\n",
       "      <th>path</th>\n",
       "      <th>class</th>\n",
       "    </tr>\n",
       "  </thead>\n",
       "  <tbody>\n",
       "    <tr>\n",
       "      <th>0</th>\n",
       "      <td>/opt/ml/pang/solid_waste/new/plastic/plastic67...</td>\n",
       "      <td>0</td>\n",
       "    </tr>\n",
       "    <tr>\n",
       "      <th>1</th>\n",
       "      <td>/opt/ml/pang/solid_waste/new/plastic/plastic16...</td>\n",
       "      <td>0</td>\n",
       "    </tr>\n",
       "    <tr>\n",
       "      <th>2</th>\n",
       "      <td>/opt/ml/pang/solid_waste/new/plastic/plastic73...</td>\n",
       "      <td>0</td>\n",
       "    </tr>\n",
       "    <tr>\n",
       "      <th>3</th>\n",
       "      <td>/opt/ml/pang/solid_waste/new/plastic/plastic62...</td>\n",
       "      <td>0</td>\n",
       "    </tr>\n",
       "    <tr>\n",
       "      <th>4</th>\n",
       "      <td>/opt/ml/pang/solid_waste/new/plastic/plastic35...</td>\n",
       "      <td>0</td>\n",
       "    </tr>\n",
       "    <tr>\n",
       "      <th>...</th>\n",
       "      <td>...</td>\n",
       "      <td>...</td>\n",
       "    </tr>\n",
       "    <tr>\n",
       "      <th>2419</th>\n",
       "      <td>/opt/ml/pang/solid_waste/black/metal/1 (204).jpg</td>\n",
       "      <td>2</td>\n",
       "    </tr>\n",
       "    <tr>\n",
       "      <th>2420</th>\n",
       "      <td>/opt/ml/pang/solid_waste/black/metal/1 (52).jpg</td>\n",
       "      <td>2</td>\n",
       "    </tr>\n",
       "    <tr>\n",
       "      <th>2421</th>\n",
       "      <td>/opt/ml/pang/solid_waste/black/metal/1 (49).jpg</td>\n",
       "      <td>2</td>\n",
       "    </tr>\n",
       "    <tr>\n",
       "      <th>2422</th>\n",
       "      <td>/opt/ml/pang/solid_waste/black/metal/1 (65).jpg</td>\n",
       "      <td>2</td>\n",
       "    </tr>\n",
       "    <tr>\n",
       "      <th>2423</th>\n",
       "      <td>/opt/ml/pang/solid_waste/black/metal/1 (55).jpg</td>\n",
       "      <td>2</td>\n",
       "    </tr>\n",
       "  </tbody>\n",
       "</table>\n",
       "<p>7203 rows × 2 columns</p>\n",
       "</div>"
      ],
      "text/plain": [
       "                                                   path  class\n",
       "0     /opt/ml/pang/solid_waste/new/plastic/plastic67...      0\n",
       "1     /opt/ml/pang/solid_waste/new/plastic/plastic16...      0\n",
       "2     /opt/ml/pang/solid_waste/new/plastic/plastic73...      0\n",
       "3     /opt/ml/pang/solid_waste/new/plastic/plastic62...      0\n",
       "4     /opt/ml/pang/solid_waste/new/plastic/plastic35...      0\n",
       "...                                                 ...    ...\n",
       "2419   /opt/ml/pang/solid_waste/black/metal/1 (204).jpg      2\n",
       "2420    /opt/ml/pang/solid_waste/black/metal/1 (52).jpg      2\n",
       "2421    /opt/ml/pang/solid_waste/black/metal/1 (49).jpg      2\n",
       "2422    /opt/ml/pang/solid_waste/black/metal/1 (65).jpg      2\n",
       "2423    /opt/ml/pang/solid_waste/black/metal/1 (55).jpg      2\n",
       "\n",
       "[7203 rows x 2 columns]"
      ]
     },
     "execution_count": 10,
     "metadata": {},
     "output_type": "execute_result"
    }
   ],
   "source": [
    "df = []\n",
    "\n",
    "for i, name in zip(data,[0,1,2]):\n",
    "    df1 = pd.DataFrame(i, columns=['path'])\n",
    "    category = [name for j in range(len(i))]\n",
    "    temp = pd.Series(category, name='class')\n",
    "    df1 = df1.join(temp)\n",
    "    df.append(df1)\n",
    "print(len(df))\n",
    "result = pd.concat(df)\n",
    "result"
   ]
  },
  {
   "cell_type": "code",
   "execution_count": 11,
   "id": "3a14d3f6-f726-4b69-b918-109a9205f24c",
   "metadata": {},
   "outputs": [],
   "source": [
    "result.to_csv('train.csv')"
   ]
  },
  {
   "cell_type": "code",
   "execution_count": null,
   "id": "ace25c3f-34f3-45ce-a590-1f1252524ae3",
   "metadata": {},
   "outputs": [],
   "source": []
  }
 ],
 "metadata": {
  "kernelspec": {
   "display_name": "Python 3",
   "language": "python",
   "name": "python3"
  },
  "language_info": {
   "codemirror_mode": {
    "name": "ipython",
    "version": 3
   },
   "file_extension": ".py",
   "mimetype": "text/x-python",
   "name": "python",
   "nbconvert_exporter": "python",
   "pygments_lexer": "ipython3",
   "version": "3.8.5"
  }
 },
 "nbformat": 4,
 "nbformat_minor": 5
}
